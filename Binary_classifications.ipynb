{
 "cells": [
  {
   "cell_type": "code",
   "execution_count": 42,
   "metadata": {},
   "outputs": [],
   "source": [
    "import pandas as pd\n",
    "import numpy as np\n",
    "import matplotlib.pyplot as plt"
   ]
  },
  {
   "cell_type": "code",
   "execution_count": 43,
   "metadata": {},
   "outputs": [
    {
     "data": {
      "text/html": [
       "<div>\n",
       "<style scoped>\n",
       "    .dataframe tbody tr th:only-of-type {\n",
       "        vertical-align: middle;\n",
       "    }\n",
       "\n",
       "    .dataframe tbody tr th {\n",
       "        vertical-align: top;\n",
       "    }\n",
       "\n",
       "    .dataframe thead th {\n",
       "        text-align: right;\n",
       "    }\n",
       "</style>\n",
       "<table border=\"1\" class=\"dataframe\">\n",
       "  <thead>\n",
       "    <tr style=\"text-align: right;\">\n",
       "      <th></th>\n",
       "      <th>Name of Student</th>\n",
       "      <th>GENERAL APPEARANCE</th>\n",
       "      <th>MANNER OF SPEAKING</th>\n",
       "      <th>PHYSICAL CONDITION</th>\n",
       "      <th>MENTAL ALERTNESS</th>\n",
       "      <th>SELF-CONFIDENCE</th>\n",
       "      <th>ABILITY TO PRESENT IDEAS</th>\n",
       "      <th>COMMUNICATION SKILLS</th>\n",
       "      <th>Student Performance Rating</th>\n",
       "      <th>CLASS</th>\n",
       "    </tr>\n",
       "  </thead>\n",
       "  <tbody>\n",
       "    <tr>\n",
       "      <th>0</th>\n",
       "      <td>Student 1</td>\n",
       "      <td>4</td>\n",
       "      <td>5</td>\n",
       "      <td>4</td>\n",
       "      <td>5</td>\n",
       "      <td>5</td>\n",
       "      <td>5</td>\n",
       "      <td>5</td>\n",
       "      <td>5</td>\n",
       "      <td>Employable</td>\n",
       "    </tr>\n",
       "    <tr>\n",
       "      <th>1</th>\n",
       "      <td>Student 2</td>\n",
       "      <td>4</td>\n",
       "      <td>4</td>\n",
       "      <td>4</td>\n",
       "      <td>4</td>\n",
       "      <td>4</td>\n",
       "      <td>4</td>\n",
       "      <td>3</td>\n",
       "      <td>5</td>\n",
       "      <td>Employable</td>\n",
       "    </tr>\n",
       "    <tr>\n",
       "      <th>2</th>\n",
       "      <td>Student 3</td>\n",
       "      <td>4</td>\n",
       "      <td>3</td>\n",
       "      <td>3</td>\n",
       "      <td>3</td>\n",
       "      <td>3</td>\n",
       "      <td>3</td>\n",
       "      <td>2</td>\n",
       "      <td>5</td>\n",
       "      <td>LessEmployable</td>\n",
       "    </tr>\n",
       "    <tr>\n",
       "      <th>3</th>\n",
       "      <td>Student 4</td>\n",
       "      <td>3</td>\n",
       "      <td>3</td>\n",
       "      <td>3</td>\n",
       "      <td>2</td>\n",
       "      <td>3</td>\n",
       "      <td>3</td>\n",
       "      <td>3</td>\n",
       "      <td>5</td>\n",
       "      <td>LessEmployable</td>\n",
       "    </tr>\n",
       "    <tr>\n",
       "      <th>4</th>\n",
       "      <td>Student 5</td>\n",
       "      <td>4</td>\n",
       "      <td>4</td>\n",
       "      <td>3</td>\n",
       "      <td>3</td>\n",
       "      <td>4</td>\n",
       "      <td>4</td>\n",
       "      <td>3</td>\n",
       "      <td>5</td>\n",
       "      <td>Employable</td>\n",
       "    </tr>\n",
       "  </tbody>\n",
       "</table>\n",
       "</div>"
      ],
      "text/plain": [
       "  Name of Student  GENERAL APPEARANCE  MANNER OF SPEAKING  PHYSICAL CONDITION  \\\n",
       "0       Student 1                   4                   5                   4   \n",
       "1       Student 2                   4                   4                   4   \n",
       "2       Student 3                   4                   3                   3   \n",
       "3       Student 4                   3                   3                   3   \n",
       "4       Student 5                   4                   4                   3   \n",
       "\n",
       "   MENTAL ALERTNESS  SELF-CONFIDENCE  ABILITY TO PRESENT IDEAS  \\\n",
       "0                 5                5                         5   \n",
       "1                 4                4                         4   \n",
       "2                 3                3                         3   \n",
       "3                 2                3                         3   \n",
       "4                 3                4                         4   \n",
       "\n",
       "   COMMUNICATION SKILLS  Student Performance Rating           CLASS  \n",
       "0                     5                           5      Employable  \n",
       "1                     3                           5      Employable  \n",
       "2                     2                           5  LessEmployable  \n",
       "3                     3                           5  LessEmployable  \n",
       "4                     3                           5      Employable  "
      ]
     },
     "execution_count": 43,
     "metadata": {},
     "output_type": "execute_result"
    }
   ],
   "source": [
    "data = pd.read_excel(\"Student-Employability-Datasets.xlsx\")\n",
    "data.head()"
   ]
  },
  {
   "cell_type": "code",
   "execution_count": 44,
   "metadata": {},
   "outputs": [
    {
     "data": {
      "text/plain": [
       "Name of Student               0\n",
       "GENERAL APPEARANCE            0\n",
       "MANNER OF SPEAKING            0\n",
       "PHYSICAL CONDITION            0\n",
       "MENTAL ALERTNESS              0\n",
       "SELF-CONFIDENCE               0\n",
       "ABILITY TO PRESENT IDEAS      0\n",
       "COMMUNICATION SKILLS          0\n",
       "Student Performance Rating    0\n",
       "CLASS                         0\n",
       "dtype: int64"
      ]
     },
     "execution_count": 44,
     "metadata": {},
     "output_type": "execute_result"
    }
   ],
   "source": [
    "# check is there any missing data\n",
    "missing_values_count = data.isnull().sum()\n",
    "missing_values_count\n"
   ]
  },
  {
   "cell_type": "code",
   "execution_count": 45,
   "metadata": {},
   "outputs": [
    {
     "data": {
      "text/html": [
       "<div>\n",
       "<style scoped>\n",
       "    .dataframe tbody tr th:only-of-type {\n",
       "        vertical-align: middle;\n",
       "    }\n",
       "\n",
       "    .dataframe tbody tr th {\n",
       "        vertical-align: top;\n",
       "    }\n",
       "\n",
       "    .dataframe thead th {\n",
       "        text-align: right;\n",
       "    }\n",
       "</style>\n",
       "<table border=\"1\" class=\"dataframe\">\n",
       "  <thead>\n",
       "    <tr style=\"text-align: right;\">\n",
       "      <th></th>\n",
       "      <th>GENERAL APPEARANCE</th>\n",
       "      <th>MANNER OF SPEAKING</th>\n",
       "      <th>PHYSICAL CONDITION</th>\n",
       "      <th>MENTAL ALERTNESS</th>\n",
       "      <th>SELF-CONFIDENCE</th>\n",
       "      <th>ABILITY TO PRESENT IDEAS</th>\n",
       "      <th>COMMUNICATION SKILLS</th>\n",
       "      <th>Student Performance Rating</th>\n",
       "      <th>CLASS</th>\n",
       "    </tr>\n",
       "  </thead>\n",
       "  <tbody>\n",
       "    <tr>\n",
       "      <th>0</th>\n",
       "      <td>4</td>\n",
       "      <td>5</td>\n",
       "      <td>4</td>\n",
       "      <td>5</td>\n",
       "      <td>5</td>\n",
       "      <td>5</td>\n",
       "      <td>5</td>\n",
       "      <td>5</td>\n",
       "      <td>Employable</td>\n",
       "    </tr>\n",
       "    <tr>\n",
       "      <th>1</th>\n",
       "      <td>4</td>\n",
       "      <td>4</td>\n",
       "      <td>4</td>\n",
       "      <td>4</td>\n",
       "      <td>4</td>\n",
       "      <td>4</td>\n",
       "      <td>3</td>\n",
       "      <td>5</td>\n",
       "      <td>Employable</td>\n",
       "    </tr>\n",
       "    <tr>\n",
       "      <th>2</th>\n",
       "      <td>4</td>\n",
       "      <td>3</td>\n",
       "      <td>3</td>\n",
       "      <td>3</td>\n",
       "      <td>3</td>\n",
       "      <td>3</td>\n",
       "      <td>2</td>\n",
       "      <td>5</td>\n",
       "      <td>LessEmployable</td>\n",
       "    </tr>\n",
       "    <tr>\n",
       "      <th>3</th>\n",
       "      <td>3</td>\n",
       "      <td>3</td>\n",
       "      <td>3</td>\n",
       "      <td>2</td>\n",
       "      <td>3</td>\n",
       "      <td>3</td>\n",
       "      <td>3</td>\n",
       "      <td>5</td>\n",
       "      <td>LessEmployable</td>\n",
       "    </tr>\n",
       "    <tr>\n",
       "      <th>4</th>\n",
       "      <td>4</td>\n",
       "      <td>4</td>\n",
       "      <td>3</td>\n",
       "      <td>3</td>\n",
       "      <td>4</td>\n",
       "      <td>4</td>\n",
       "      <td>3</td>\n",
       "      <td>5</td>\n",
       "      <td>Employable</td>\n",
       "    </tr>\n",
       "  </tbody>\n",
       "</table>\n",
       "</div>"
      ],
      "text/plain": [
       "   GENERAL APPEARANCE  MANNER OF SPEAKING  PHYSICAL CONDITION  \\\n",
       "0                   4                   5                   4   \n",
       "1                   4                   4                   4   \n",
       "2                   4                   3                   3   \n",
       "3                   3                   3                   3   \n",
       "4                   4                   4                   3   \n",
       "\n",
       "   MENTAL ALERTNESS  SELF-CONFIDENCE  ABILITY TO PRESENT IDEAS  \\\n",
       "0                 5                5                         5   \n",
       "1                 4                4                         4   \n",
       "2                 3                3                         3   \n",
       "3                 2                3                         3   \n",
       "4                 3                4                         4   \n",
       "\n",
       "   COMMUNICATION SKILLS  Student Performance Rating           CLASS  \n",
       "0                     5                           5      Employable  \n",
       "1                     3                           5      Employable  \n",
       "2                     2                           5  LessEmployable  \n",
       "3                     3                           5  LessEmployable  \n",
       "4                     3                           5      Employable  "
      ]
     },
     "execution_count": 45,
     "metadata": {},
     "output_type": "execute_result"
    }
   ],
   "source": [
    "# drop the Name of student column\n",
    "data = data.drop([\"Name of Student\"], axis = 1)\n",
    "data.head()"
   ]
  },
  {
   "cell_type": "code",
   "execution_count": 46,
   "metadata": {},
   "outputs": [
    {
     "data": {
      "text/html": [
       "<div>\n",
       "<style scoped>\n",
       "    .dataframe tbody tr th:only-of-type {\n",
       "        vertical-align: middle;\n",
       "    }\n",
       "\n",
       "    .dataframe tbody tr th {\n",
       "        vertical-align: top;\n",
       "    }\n",
       "\n",
       "    .dataframe thead th {\n",
       "        text-align: right;\n",
       "    }\n",
       "</style>\n",
       "<table border=\"1\" class=\"dataframe\">\n",
       "  <thead>\n",
       "    <tr style=\"text-align: right;\">\n",
       "      <th></th>\n",
       "      <th>Employable</th>\n",
       "    </tr>\n",
       "  </thead>\n",
       "  <tbody>\n",
       "    <tr>\n",
       "      <th>0</th>\n",
       "      <td>1</td>\n",
       "    </tr>\n",
       "    <tr>\n",
       "      <th>1</th>\n",
       "      <td>1</td>\n",
       "    </tr>\n",
       "    <tr>\n",
       "      <th>2</th>\n",
       "      <td>0</td>\n",
       "    </tr>\n",
       "  </tbody>\n",
       "</table>\n",
       "</div>"
      ],
      "text/plain": [
       "   Employable\n",
       "0           1\n",
       "1           1\n",
       "2           0"
      ]
     },
     "execution_count": 46,
     "metadata": {},
     "output_type": "execute_result"
    }
   ],
   "source": [
    "# categorical to numeric\n",
    "numeric_classes = pd.get_dummies(data.iloc[:,-1])\n",
    "numeric_class = pd.DataFrame(numeric_classes.iloc[:,0])\n",
    "numeric_class.head(3)"
   ]
  },
  {
   "cell_type": "code",
   "execution_count": 47,
   "metadata": {},
   "outputs": [
    {
     "name": "stdout",
     "output_type": "stream",
     "text": [
      "<class 'numpy.ndarray'> <class 'numpy.ndarray'>\n"
     ]
    }
   ],
   "source": [
    "x = data.drop([\"CLASS\"], axis = 1).values\n",
    "y = numeric_class.values\n",
    "print(type(y), type(x))"
   ]
  },
  {
   "cell_type": "code",
   "execution_count": 48,
   "metadata": {},
   "outputs": [
    {
     "name": "stdout",
     "output_type": "stream",
     "text": [
      "(2534, 8) (448, 8) (2534, 1) (448, 1)\n"
     ]
    }
   ],
   "source": [
    "from sklearn.model_selection import train_test_split\n",
    "\n",
    "x_train, x_test, y_train, y_test = train_test_split(x, y, test_size = 0.15, random_state = 0)\n",
    "print(x_train.shape, x_test.shape, y_train.shape, y_test.shape)"
   ]
  },
  {
   "attachments": {},
   "cell_type": "markdown",
   "metadata": {},
   "source": [
    "## Classification with Neural Network"
   ]
  },
  {
   "cell_type": "code",
   "execution_count": 65,
   "metadata": {},
   "outputs": [
    {
     "name": "stdout",
     "output_type": "stream",
     "text": [
      "Model: \"sequential_20\"\n",
      "_________________________________________________________________\n",
      " Layer (type)                Output Shape              Param #   \n",
      "=================================================================\n",
      " dense_96 (Dense)            (None, 512)               4608      \n",
      "                                                                 \n",
      " dropout_31 (Dropout)        (None, 512)               0         \n",
      "                                                                 \n",
      " dense_97 (Dense)            (None, 256)               131328    \n",
      "                                                                 \n",
      " dropout_32 (Dropout)        (None, 256)               0         \n",
      "                                                                 \n",
      " dense_98 (Dense)            (None, 256)               65792     \n",
      "                                                                 \n",
      " dense_99 (Dense)            (None, 8)                 2056      \n",
      "                                                                 \n",
      " dense_100 (Dense)           (None, 1)                 9         \n",
      "                                                                 \n",
      "=================================================================\n",
      "Total params: 203,793\n",
      "Trainable params: 203,793\n",
      "Non-trainable params: 0\n",
      "_________________________________________________________________\n",
      "Epoch 1/80\n",
      "20/20 [==============================] - 3s 31ms/step - loss: 0.7016 - accuracy: 0.5576 - val_loss: 0.6743 - val_accuracy: 0.5826\n",
      "Epoch 2/80\n",
      "20/20 [==============================] - 0s 18ms/step - loss: 0.6762 - accuracy: 0.5797 - val_loss: 0.6720 - val_accuracy: 0.5826\n",
      "Epoch 3/80\n",
      "20/20 [==============================] - 0s 18ms/step - loss: 0.6758 - accuracy: 0.5789 - val_loss: 0.6695 - val_accuracy: 0.5826\n",
      "Epoch 4/80\n",
      "20/20 [==============================] - 0s 17ms/step - loss: 0.6751 - accuracy: 0.5785 - val_loss: 0.6656 - val_accuracy: 0.5826\n",
      "Epoch 5/80\n",
      "20/20 [==============================] - 0s 17ms/step - loss: 0.6733 - accuracy: 0.5781 - val_loss: 0.6631 - val_accuracy: 0.5826\n",
      "Epoch 6/80\n",
      "20/20 [==============================] - 0s 19ms/step - loss: 0.6745 - accuracy: 0.5821 - val_loss: 0.6627 - val_accuracy: 0.5826\n",
      "Epoch 7/80\n",
      "20/20 [==============================] - 0s 18ms/step - loss: 0.6708 - accuracy: 0.5762 - val_loss: 0.6622 - val_accuracy: 0.5826\n",
      "Epoch 8/80\n",
      "20/20 [==============================] - 0s 14ms/step - loss: 0.6688 - accuracy: 0.5781 - val_loss: 0.6559 - val_accuracy: 0.5692\n",
      "Epoch 9/80\n",
      "20/20 [==============================] - 0s 15ms/step - loss: 0.6671 - accuracy: 0.5730 - val_loss: 0.6548 - val_accuracy: 0.5714\n",
      "Epoch 10/80\n",
      "20/20 [==============================] - 0s 17ms/step - loss: 0.6656 - accuracy: 0.5781 - val_loss: 0.6526 - val_accuracy: 0.5804\n",
      "Epoch 11/80\n",
      "20/20 [==============================] - 0s 17ms/step - loss: 0.6619 - accuracy: 0.5825 - val_loss: 0.6616 - val_accuracy: 0.6228\n",
      "Epoch 12/80\n",
      "20/20 [==============================] - 0s 17ms/step - loss: 0.6640 - accuracy: 0.5663 - val_loss: 0.6443 - val_accuracy: 0.5915\n",
      "Epoch 13/80\n",
      "20/20 [==============================] - 0s 17ms/step - loss: 0.6601 - accuracy: 0.5722 - val_loss: 0.6461 - val_accuracy: 0.6161\n",
      "Epoch 14/80\n",
      "20/20 [==============================] - 0s 17ms/step - loss: 0.6611 - accuracy: 0.5904 - val_loss: 0.6426 - val_accuracy: 0.6071\n",
      "Epoch 15/80\n",
      "20/20 [==============================] - 0s 17ms/step - loss: 0.6565 - accuracy: 0.5892 - val_loss: 0.6392 - val_accuracy: 0.6027\n",
      "Epoch 16/80\n",
      "20/20 [==============================] - 0s 18ms/step - loss: 0.6554 - accuracy: 0.5789 - val_loss: 0.6307 - val_accuracy: 0.5982\n",
      "Epoch 17/80\n",
      "20/20 [==============================] - 0s 17ms/step - loss: 0.6503 - accuracy: 0.5892 - val_loss: 0.6273 - val_accuracy: 0.5960\n",
      "Epoch 18/80\n",
      "20/20 [==============================] - 0s 15ms/step - loss: 0.6480 - accuracy: 0.5856 - val_loss: 0.6609 - val_accuracy: 0.5268\n",
      "Epoch 19/80\n",
      "20/20 [==============================] - 0s 16ms/step - loss: 0.6452 - accuracy: 0.5896 - val_loss: 0.6372 - val_accuracy: 0.5871\n",
      "Epoch 20/80\n",
      "20/20 [==============================] - 0s 15ms/step - loss: 0.6363 - accuracy: 0.6046 - val_loss: 0.6826 - val_accuracy: 0.5647\n",
      "Epoch 21/80\n",
      "20/20 [==============================] - 0s 17ms/step - loss: 0.6347 - accuracy: 0.6014 - val_loss: 0.6503 - val_accuracy: 0.6071\n",
      "Epoch 22/80\n",
      "20/20 [==============================] - 0s 17ms/step - loss: 0.6320 - accuracy: 0.6196 - val_loss: 0.6258 - val_accuracy: 0.6205\n",
      "Epoch 23/80\n",
      "20/20 [==============================] - 0s 17ms/step - loss: 0.6308 - accuracy: 0.6180 - val_loss: 0.6498 - val_accuracy: 0.6205\n",
      "Epoch 24/80\n",
      "20/20 [==============================] - 0s 18ms/step - loss: 0.6286 - accuracy: 0.6231 - val_loss: 0.6094 - val_accuracy: 0.6518\n",
      "Epoch 25/80\n",
      "20/20 [==============================] - 0s 18ms/step - loss: 0.6185 - accuracy: 0.6306 - val_loss: 0.5947 - val_accuracy: 0.6429\n",
      "Epoch 26/80\n",
      "20/20 [==============================] - 0s 20ms/step - loss: 0.6132 - accuracy: 0.6342 - val_loss: 0.6368 - val_accuracy: 0.6250\n",
      "Epoch 27/80\n",
      "20/20 [==============================] - 0s 20ms/step - loss: 0.6196 - accuracy: 0.6172 - val_loss: 0.6036 - val_accuracy: 0.6362\n",
      "Epoch 28/80\n",
      "20/20 [==============================] - 0s 18ms/step - loss: 0.6089 - accuracy: 0.6354 - val_loss: 0.5903 - val_accuracy: 0.6406\n",
      "Epoch 29/80\n",
      "20/20 [==============================] - 0s 16ms/step - loss: 0.6071 - accuracy: 0.6425 - val_loss: 0.5861 - val_accuracy: 0.7165\n",
      "Epoch 30/80\n",
      "20/20 [==============================] - 0s 16ms/step - loss: 0.6016 - accuracy: 0.6661 - val_loss: 0.5704 - val_accuracy: 0.7098\n",
      "Epoch 31/80\n",
      "20/20 [==============================] - 0s 16ms/step - loss: 0.5938 - accuracy: 0.6685 - val_loss: 0.5493 - val_accuracy: 0.7121\n",
      "Epoch 32/80\n",
      "20/20 [==============================] - 0s 20ms/step - loss: 0.5794 - accuracy: 0.6938 - val_loss: 0.5409 - val_accuracy: 0.7232\n",
      "Epoch 33/80\n",
      "20/20 [==============================] - 0s 18ms/step - loss: 0.5817 - accuracy: 0.7021 - val_loss: 0.5306 - val_accuracy: 0.7411\n",
      "Epoch 34/80\n",
      "20/20 [==============================] - 0s 14ms/step - loss: 0.5558 - accuracy: 0.7253 - val_loss: 0.5464 - val_accuracy: 0.6964\n",
      "Epoch 35/80\n",
      "20/20 [==============================] - 0s 15ms/step - loss: 0.5528 - accuracy: 0.7174 - val_loss: 0.4884 - val_accuracy: 0.7857\n",
      "Epoch 36/80\n",
      "20/20 [==============================] - 0s 16ms/step - loss: 0.5426 - accuracy: 0.7253 - val_loss: 0.4958 - val_accuracy: 0.7500\n",
      "Epoch 37/80\n",
      "20/20 [==============================] - 0s 16ms/step - loss: 0.5286 - accuracy: 0.7324 - val_loss: 0.4561 - val_accuracy: 0.7924\n",
      "Epoch 38/80\n",
      "20/20 [==============================] - 0s 22ms/step - loss: 0.5074 - accuracy: 0.7549 - val_loss: 0.4906 - val_accuracy: 0.7634\n",
      "Epoch 39/80\n",
      "20/20 [==============================] - 0s 20ms/step - loss: 0.5148 - accuracy: 0.7423 - val_loss: 0.4295 - val_accuracy: 0.8013\n",
      "Epoch 40/80\n",
      "20/20 [==============================] - 0s 15ms/step - loss: 0.4741 - accuracy: 0.7814 - val_loss: 0.4641 - val_accuracy: 0.7679\n",
      "Epoch 41/80\n",
      "20/20 [==============================] - 0s 15ms/step - loss: 0.4731 - accuracy: 0.7758 - val_loss: 0.4862 - val_accuracy: 0.7433\n",
      "Epoch 42/80\n",
      "20/20 [==============================] - 0s 15ms/step - loss: 0.4494 - accuracy: 0.7920 - val_loss: 0.4015 - val_accuracy: 0.8125\n",
      "Epoch 43/80\n",
      "20/20 [==============================] - 0s 20ms/step - loss: 0.4488 - accuracy: 0.7932 - val_loss: 0.4249 - val_accuracy: 0.8058\n",
      "Epoch 44/80\n",
      "20/20 [==============================] - 0s 19ms/step - loss: 0.4341 - accuracy: 0.7948 - val_loss: 0.4135 - val_accuracy: 0.8348\n",
      "Epoch 45/80\n",
      "20/20 [==============================] - 0s 23ms/step - loss: 0.4322 - accuracy: 0.8031 - val_loss: 0.3863 - val_accuracy: 0.8348\n",
      "Epoch 46/80\n",
      "20/20 [==============================] - 0s 20ms/step - loss: 0.4118 - accuracy: 0.8133 - val_loss: 0.4325 - val_accuracy: 0.7991\n",
      "Epoch 47/80\n",
      "20/20 [==============================] - 0s 20ms/step - loss: 0.4041 - accuracy: 0.8200 - val_loss: 0.3215 - val_accuracy: 0.8728\n",
      "Epoch 48/80\n",
      "20/20 [==============================] - 0s 22ms/step - loss: 0.3926 - accuracy: 0.8264 - val_loss: 0.3601 - val_accuracy: 0.8527\n",
      "Epoch 49/80\n",
      "20/20 [==============================] - 0s 18ms/step - loss: 0.3798 - accuracy: 0.8291 - val_loss: 0.3942 - val_accuracy: 0.7924\n",
      "Epoch 50/80\n",
      "20/20 [==============================] - 0s 22ms/step - loss: 0.3797 - accuracy: 0.8315 - val_loss: 0.3337 - val_accuracy: 0.8638\n",
      "Epoch 51/80\n",
      "20/20 [==============================] - 0s 22ms/step - loss: 0.3620 - accuracy: 0.8402 - val_loss: 0.3384 - val_accuracy: 0.8438\n",
      "Epoch 52/80\n",
      "20/20 [==============================] - 0s 20ms/step - loss: 0.3643 - accuracy: 0.8366 - val_loss: 0.2808 - val_accuracy: 0.8705\n",
      "Epoch 53/80\n",
      "20/20 [==============================] - 0s 16ms/step - loss: 0.3405 - accuracy: 0.8556 - val_loss: 0.3055 - val_accuracy: 0.8683\n",
      "Epoch 54/80\n",
      "20/20 [==============================] - 0s 15ms/step - loss: 0.3626 - accuracy: 0.8398 - val_loss: 0.2913 - val_accuracy: 0.8795\n",
      "Epoch 55/80\n",
      "20/20 [==============================] - 0s 16ms/step - loss: 0.3305 - accuracy: 0.8544 - val_loss: 0.2647 - val_accuracy: 0.8862\n",
      "Epoch 56/80\n",
      "20/20 [==============================] - 0s 16ms/step - loss: 0.3275 - accuracy: 0.8642 - val_loss: 0.3510 - val_accuracy: 0.8281\n",
      "Epoch 57/80\n",
      "20/20 [==============================] - 0s 16ms/step - loss: 0.3117 - accuracy: 0.8646 - val_loss: 0.3809 - val_accuracy: 0.8103\n",
      "Epoch 58/80\n",
      "20/20 [==============================] - 0s 16ms/step - loss: 0.3261 - accuracy: 0.8587 - val_loss: 0.2552 - val_accuracy: 0.8772\n",
      "Epoch 59/80\n",
      "20/20 [==============================] - 0s 20ms/step - loss: 0.2992 - accuracy: 0.8717 - val_loss: 0.2421 - val_accuracy: 0.8862\n",
      "Epoch 60/80\n",
      "20/20 [==============================] - 0s 24ms/step - loss: 0.3109 - accuracy: 0.8662 - val_loss: 0.2279 - val_accuracy: 0.8973\n",
      "Epoch 61/80\n",
      "20/20 [==============================] - 0s 22ms/step - loss: 0.3034 - accuracy: 0.8717 - val_loss: 0.2335 - val_accuracy: 0.9085\n",
      "Epoch 62/80\n",
      "20/20 [==============================] - 0s 24ms/step - loss: 0.2837 - accuracy: 0.8749 - val_loss: 0.2466 - val_accuracy: 0.8795\n",
      "Epoch 63/80\n",
      "20/20 [==============================] - 0s 22ms/step - loss: 0.2903 - accuracy: 0.8745 - val_loss: 0.2214 - val_accuracy: 0.8929\n",
      "Epoch 64/80\n",
      "20/20 [==============================] - 0s 21ms/step - loss: 0.2698 - accuracy: 0.8840 - val_loss: 0.2165 - val_accuracy: 0.8906\n",
      "Epoch 65/80\n",
      "20/20 [==============================] - 0s 19ms/step - loss: 0.2835 - accuracy: 0.8733 - val_loss: 0.3321 - val_accuracy: 0.8415\n",
      "Epoch 66/80\n",
      "20/20 [==============================] - 0s 16ms/step - loss: 0.2913 - accuracy: 0.8741 - val_loss: 0.2223 - val_accuracy: 0.9085\n",
      "Epoch 67/80\n",
      "20/20 [==============================] - 0s 16ms/step - loss: 0.2611 - accuracy: 0.8919 - val_loss: 0.2208 - val_accuracy: 0.8862\n",
      "Epoch 68/80\n",
      "20/20 [==============================] - 0s 18ms/step - loss: 0.2757 - accuracy: 0.8753 - val_loss: 0.2197 - val_accuracy: 0.8795\n",
      "Epoch 69/80\n",
      "20/20 [==============================] - 0s 16ms/step - loss: 0.2833 - accuracy: 0.8800 - val_loss: 0.2325 - val_accuracy: 0.8862\n",
      "Epoch 70/80\n",
      "20/20 [==============================] - 0s 16ms/step - loss: 0.2730 - accuracy: 0.8800 - val_loss: 0.2271 - val_accuracy: 0.9018\n",
      "Epoch 71/80\n",
      "20/20 [==============================] - 0s 17ms/step - loss: 0.2680 - accuracy: 0.8832 - val_loss: 0.2151 - val_accuracy: 0.9085\n",
      "Epoch 72/80\n",
      "20/20 [==============================] - 0s 20ms/step - loss: 0.2562 - accuracy: 0.8856 - val_loss: 0.1968 - val_accuracy: 0.9129\n",
      "Epoch 73/80\n",
      "20/20 [==============================] - 0s 24ms/step - loss: 0.2569 - accuracy: 0.8828 - val_loss: 0.1998 - val_accuracy: 0.9107\n",
      "Epoch 74/80\n",
      "20/20 [==============================] - 0s 21ms/step - loss: 0.2608 - accuracy: 0.8820 - val_loss: 0.1866 - val_accuracy: 0.9085\n",
      "Epoch 75/80\n",
      "20/20 [==============================] - 0s 17ms/step - loss: 0.2561 - accuracy: 0.8867 - val_loss: 0.2453 - val_accuracy: 0.9107\n",
      "Epoch 76/80\n",
      "20/20 [==============================] - 0s 14ms/step - loss: 0.2413 - accuracy: 0.8931 - val_loss: 0.1838 - val_accuracy: 0.9040\n",
      "Epoch 77/80\n",
      "20/20 [==============================] - 0s 18ms/step - loss: 0.2495 - accuracy: 0.8895 - val_loss: 0.2216 - val_accuracy: 0.8862\n",
      "Epoch 78/80\n",
      "20/20 [==============================] - 0s 16ms/step - loss: 0.2508 - accuracy: 0.8852 - val_loss: 0.1783 - val_accuracy: 0.9085\n",
      "Epoch 79/80\n",
      "20/20 [==============================] - 0s 18ms/step - loss: 0.2498 - accuracy: 0.8867 - val_loss: 0.1872 - val_accuracy: 0.9085\n",
      "Epoch 80/80\n",
      "20/20 [==============================] - 0s 19ms/step - loss: 0.2455 - accuracy: 0.8875 - val_loss: 0.1784 - val_accuracy: 0.9129\n"
     ]
    }
   ],
   "source": [
    "from keras import layers\n",
    "from keras import models\n",
    "from keras import optimizers\n",
    "from keras import losses\n",
    "from keras import metrics\n",
    "\n",
    "model=models.Sequential()\n",
    "model.add(layers.Dense(512,activation='relu',input_shape=(x_train.shape[1], )))\n",
    "model.add(layers.Dropout(0.3))\n",
    "model.add(layers.Dense(256, activation = 'relu'))\n",
    "model.add(layers.Dropout(0.3))\n",
    "model.add(layers.Dense(256, activation = 'relu'))\n",
    "model.add(layers.Dense(8, activation = 'relu'))\n",
    "model.add(layers.Dense(1,activation='sigmoid'))\n",
    "\n",
    "model.summary()\n",
    "\n",
    "model.compile(optimizer='rmsprop',loss='binary_crossentropy',metrics=['accuracy'])\n",
    "\n",
    "history = model.fit(x_train,y_train, epochs=80, batch_size = 128, validation_data=(x_test, y_test))"
   ]
  },
  {
   "cell_type": "code",
   "execution_count": 66,
   "metadata": {},
   "outputs": [
    {
     "name": "stdout",
     "output_type": "stream",
     "text": [
      "14/14 [==============================] - 0s 3ms/step - loss: 0.1784 - accuracy: 0.9129\n",
      "score on test: 0.9129464030265808\n",
      "80/80 [==============================] - 1s 8ms/step - loss: 0.1844 - accuracy: 0.9100\n",
      "score on train: 0.9100236892700195\n"
     ]
    }
   ],
   "source": [
    "print(\"score on test: \" + str(model.evaluate(x_test,y_test)[1]))\n",
    "print(\"score on train: \"+ str(model.evaluate(x_train,y_train)[1]))"
   ]
  },
  {
   "cell_type": "code",
   "execution_count": 67,
   "metadata": {},
   "outputs": [
    {
     "name": "stdout",
     "output_type": "stream",
     "text": [
      "14/14 [==============================] - 0s 3ms/step\n",
      "[[156  31]\n",
      " [  8 253]]\n",
      "Accuracy Score :  409\n"
     ]
    }
   ],
   "source": [
    "from sklearn.metrics import confusion_matrix\n",
    "from sklearn.metrics import accuracy_score\n",
    "\n",
    "y_pred_nn = model.predict(x_test)\n",
    "\n",
    "confusion_matrix_nn = confusion_matrix(y_test, y_pred_nn.round())\n",
    "print(confusion_matrix_nn)\n",
    "\n",
    "print(\"Accuracy Score : \", accuracy_score(y_test, y_pred_nn.round(), normalize=False))"
   ]
  },
  {
   "attachments": {},
   "cell_type": "markdown",
   "metadata": {},
   "source": [
    "## Classification with Naive Bayes"
   ]
  },
  {
   "cell_type": "code",
   "execution_count": 68,
   "metadata": {},
   "outputs": [
    {
     "name": "stdout",
     "output_type": "stream",
     "text": [
      "score on test: 0.5825892857142857\n",
      "score on train: 0.579321231254933\n"
     ]
    }
   ],
   "source": [
    "from sklearn.naive_bayes import MultinomialNB\n",
    "\n",
    "mnb = MultinomialNB().fit(x_train, y_train.ravel())\n",
    "\n",
    "print(\"score on test: \" + str(mnb.score(x_test, y_test)))\n",
    "print(\"score on train: \"+ str(mnb.score(x_train, y_train)))"
   ]
  },
  {
   "cell_type": "code",
   "execution_count": 69,
   "metadata": {},
   "outputs": [
    {
     "name": "stdout",
     "output_type": "stream",
     "text": [
      "[[  0 187]\n",
      " [  0 261]]\n",
      "Accuracy Score :  261\n"
     ]
    }
   ],
   "source": [
    "y_pred_mnb = mnb.predict(x_test)\n",
    "\n",
    "confusion_matrix_mnb = confusion_matrix(y_test, y_pred_mnb.round())\n",
    "print(confusion_matrix_mnb)\n",
    "\n",
    "print(\"Accuracy Score : \", accuracy_score(y_test, y_pred_mnb.round(), normalize = False))"
   ]
  },
  {
   "attachments": {},
   "cell_type": "markdown",
   "metadata": {},
   "source": [
    "## Classification with Logistic Regression"
   ]
  },
  {
   "cell_type": "code",
   "execution_count": 70,
   "metadata": {},
   "outputs": [
    {
     "name": "stdout",
     "output_type": "stream",
     "text": [
      "score on test: 0.5825892857142857\n",
      "score on train: 0.6191791633780585\n"
     ]
    }
   ],
   "source": [
    "from sklearn.linear_model import LogisticRegression\n",
    "\n",
    "lr=LogisticRegression()\n",
    "\n",
    "lr.fit(x_train, y_train.ravel())\n",
    "\n",
    "print(\"score on test: \" + str(lr.score(x_test, y_test)))\n",
    "print(\"score on train: \"+ str(lr.score(x_train, y_train)))"
   ]
  },
  {
   "cell_type": "code",
   "execution_count": 71,
   "metadata": {},
   "outputs": [
    {
     "name": "stdout",
     "output_type": "stream",
     "text": [
      "[[ 67 120]\n",
      " [ 67 194]]\n",
      "Accuracy Score :  261\n"
     ]
    }
   ],
   "source": [
    "y_pred_lr = lr.predict(x_test)\n",
    "\n",
    "confusion_matrix_lr = confusion_matrix(y_test, y_pred_lr.round())\n",
    "print(confusion_matrix_lr)\n",
    "\n",
    "print(\"Accuracy Score : \", accuracy_score(y_test, y_pred_lr.round(), normalize = False))"
   ]
  },
  {
   "attachments": {},
   "cell_type": "markdown",
   "metadata": {},
   "source": [
    "## Classification with K-Nearest Neighbours"
   ]
  },
  {
   "cell_type": "code",
   "execution_count": 72,
   "metadata": {},
   "outputs": [
    {
     "name": "stdout",
     "output_type": "stream",
     "text": [
      "score on test: 0.8995535714285714\n",
      "score on train: 0.893843725335438\n"
     ]
    }
   ],
   "source": [
    "from sklearn.neighbors import KNeighborsClassifier\n",
    "\n",
    "knn = KNeighborsClassifier()\n",
    "knn.fit(x_train, y_train.ravel())\n",
    "\n",
    "print(\"score on test: \" + str(knn.score(x_test, y_test)))\n",
    "print(\"score on train: \"+ str(knn.score(x_train, y_train)))"
   ]
  },
  {
   "cell_type": "code",
   "execution_count": 73,
   "metadata": {},
   "outputs": [
    {
     "name": "stdout",
     "output_type": "stream",
     "text": [
      "[[158  29]\n",
      " [ 16 245]]\n",
      "Accuracy Score :  403\n"
     ]
    }
   ],
   "source": [
    "y_pred_knn = knn.predict(x_test)\n",
    "\n",
    "confusion_matrix_knn = confusion_matrix(y_test, y_pred_knn.round())\n",
    "print(confusion_matrix_knn)\n",
    "\n",
    "print(\"Accuracy Score : \", accuracy_score(y_test, y_pred_knn.round(), normalize = False))"
   ]
  },
  {
   "attachments": {},
   "cell_type": "markdown",
   "metadata": {},
   "source": [
    "## Support Vector Machine"
   ]
  },
  {
   "cell_type": "code",
   "execution_count": 74,
   "metadata": {},
   "outputs": [
    {
     "name": "stdout",
     "output_type": "stream",
     "text": [
      "score on test: 0.5825892857142857\n",
      "score on train: 0.579321231254933\n"
     ]
    }
   ],
   "source": [
    "from sklearn.svm import LinearSVC\n",
    "\n",
    "svm=LinearSVC(C = 0.0001)\n",
    "svm.fit(x_train, y_train.ravel())\n",
    "\n",
    "print(\"score on test: \" + str(svm.score(x_test, y_test)))\n",
    "print(\"score on train: \"+ str(svm.score(x_train, y_train)))"
   ]
  },
  {
   "cell_type": "code",
   "execution_count": 75,
   "metadata": {},
   "outputs": [
    {
     "name": "stdout",
     "output_type": "stream",
     "text": [
      "[[  0 187]\n",
      " [  0 261]]\n",
      "Accuracy Score:  261\n"
     ]
    }
   ],
   "source": [
    "y_pred_svm = svm.predict(x_test)\n",
    "\n",
    "confusion_matrix_svm = confusion_matrix(y_test, y_pred_svm.round())\n",
    "print(confusion_matrix_svm)\n",
    "\n",
    "print(\"Accuracy Score: \", accuracy_score(y_test, y_pred_svm.round(), normalize = False))"
   ]
  },
  {
   "attachments": {},
   "cell_type": "markdown",
   "metadata": {},
   "source": [
    "## Classification with Decision Tree"
   ]
  },
  {
   "cell_type": "code",
   "execution_count": 76,
   "metadata": {},
   "outputs": [
    {
     "name": "stdout",
     "output_type": "stream",
     "text": [
      "score on test: 0.90625\n",
      "score on train: 0.9119968429360694\n"
     ]
    }
   ],
   "source": [
    "from sklearn.tree import DecisionTreeClassifier\n",
    "\n",
    "dt = DecisionTreeClassifier()\n",
    "dt.fit(x_train, y_train.ravel())\n",
    "\n",
    "print(\"score on test: \"  + str(dt.score(x_test, y_test)))\n",
    "print(\"score on train: \" + str(dt.score(x_train, y_train)))"
   ]
  },
  {
   "cell_type": "code",
   "execution_count": 77,
   "metadata": {},
   "outputs": [
    {
     "name": "stdout",
     "output_type": "stream",
     "text": [
      "[[167  20]\n",
      " [ 22 239]]\n",
      "Accuracy Score:  406\n"
     ]
    }
   ],
   "source": [
    "y_pred_dt = dt.predict(x_test)\n",
    "\n",
    "confusion_matrix_dt = confusion_matrix(y_test, y_pred_dt.round())\n",
    "print(confusion_matrix_dt)\n",
    "\n",
    "print(\"Accuracy Score: \", accuracy_score(y_test, y_pred_dt.round(), normalize = False))"
   ]
  },
  {
   "attachments": {},
   "cell_type": "markdown",
   "metadata": {},
   "source": [
    "## Classification with Bagging Decision Tree (Ensemble Learning)"
   ]
  },
  {
   "cell_type": "code",
   "execution_count": 78,
   "metadata": {},
   "outputs": [
    {
     "name": "stdout",
     "output_type": "stream",
     "text": [
      "score on test: 0.90625\n",
      "score on train: 0.9119968429360694\n"
     ]
    }
   ],
   "source": [
    "from sklearn.ensemble import BaggingClassifier\n",
    "from sklearn.tree import DecisionTreeClassifier\n",
    "\n",
    "bg = BaggingClassifier(DecisionTreeClassifier(),n_estimators=10)\n",
    "bg.fit(x_train, y_train.ravel())\n",
    "print(\"score on test: \" + str(bg.score(x_test, y_test)))\n",
    "print(\"score on train: \"+ str(bg.score(x_train, y_train)))"
   ]
  },
  {
   "cell_type": "code",
   "execution_count": 79,
   "metadata": {},
   "outputs": [
    {
     "name": "stdout",
     "output_type": "stream",
     "text": [
      "[[167  20]\n",
      " [ 22 239]]\n",
      "Accuracy Score:  406\n"
     ]
    }
   ],
   "source": [
    "y_pred_bg = dt.predict(x_test)\n",
    "\n",
    "confusion_matrix_bg = confusion_matrix(y_test, y_pred_bg)\n",
    "print(confusion_matrix_bg)\n",
    "\n",
    "print(\"Accuracy Score: \", accuracy_score(y_test, y_pred_bg, normalize = False))"
   ]
  },
  {
   "attachments": {},
   "cell_type": "markdown",
   "metadata": {},
   "source": [
    "## Classification with Boosting Decision Tree (Ensemble Learning)"
   ]
  },
  {
   "cell_type": "code",
   "execution_count": 80,
   "metadata": {},
   "outputs": [
    {
     "name": "stdout",
     "output_type": "stream",
     "text": [
      "score on test: 0.90625\n",
      "score on train: 0.9119968429360694\n"
     ]
    }
   ],
   "source": [
    "from sklearn.ensemble import AdaBoostClassifier\n",
    "from sklearn.tree import DecisionTreeClassifier\n",
    "\n",
    "adb = AdaBoostClassifier(DecisionTreeClassifier())\n",
    "adb.fit(x_train, y_train.ravel())\n",
    "\n",
    "print(\"score on test: \" + str(adb.score(x_test, y_test)))\n",
    "print(\"score on train: \"+ str(adb.score(x_train, y_train)))"
   ]
  },
  {
   "cell_type": "code",
   "execution_count": 81,
   "metadata": {},
   "outputs": [
    {
     "name": "stdout",
     "output_type": "stream",
     "text": [
      "[[167  20]\n",
      " [ 22 239]]\n",
      "Accuracy Score:  406\n"
     ]
    }
   ],
   "source": [
    "y_pred_adb = dt.predict(x_test)\n",
    "\n",
    "confusion_matrix_adb = confusion_matrix(y_test, y_pred_adb)\n",
    "print(confusion_matrix_adb)\n",
    "\n",
    "print(\"Accuracy Score: \", accuracy_score(y_test, y_pred_adb, normalize = False))"
   ]
  },
  {
   "attachments": {},
   "cell_type": "markdown",
   "metadata": {},
   "source": [
    "## Classification with Random Forest (Ensemble Learning)"
   ]
  },
  {
   "cell_type": "code",
   "execution_count": 82,
   "metadata": {},
   "outputs": [
    {
     "name": "stdout",
     "output_type": "stream",
     "text": [
      "score on test: 0.8973214285714286\n",
      "score on train: 0.9013417521704814\n"
     ]
    }
   ],
   "source": [
    "from sklearn.ensemble import RandomForestClassifier\n",
    "\n",
    "rf = RandomForestClassifier(n_estimators=30, max_depth=9)\n",
    "rf.fit(x_train, y_train.ravel())\n",
    "\n",
    "print(\"score on test: \" + str(rf.score(x_test, y_test)))\n",
    "print(\"score on train: \"+ str(rf.score(x_train, y_train)))"
   ]
  },
  {
   "cell_type": "code",
   "execution_count": 83,
   "metadata": {},
   "outputs": [
    {
     "name": "stdout",
     "output_type": "stream",
     "text": [
      "[[167  20]\n",
      " [ 22 239]]\n",
      "Accuracy Score:  406\n"
     ]
    }
   ],
   "source": [
    "y_pred_rf = dt.predict(x_test)\n",
    "\n",
    "confusion_matrix_rf = confusion_matrix(y_test, y_pred_rf)\n",
    "print(confusion_matrix_rf)\n",
    "\n",
    "print(\"Accuracy Score: \", accuracy_score(y_test, y_pred_rf, normalize = False))"
   ]
  },
  {
   "attachments": {},
   "cell_type": "markdown",
   "metadata": {},
   "source": [
    "## Classification with Voting Classifier"
   ]
  },
  {
   "cell_type": "code",
   "execution_count": 84,
   "metadata": {},
   "outputs": [
    {
     "name": "stdout",
     "output_type": "stream",
     "text": [
      "score on test: 0.7165178571428571\n",
      "score on train: 0.7237569060773481\n"
     ]
    }
   ],
   "source": [
    "from sklearn.ensemble import VotingClassifier\n",
    "\n",
    "# 1) naive bias = mnb\n",
    "# 2) logistic regression =lr\n",
    "# 3) random forest =rf\n",
    "# 4) support vector machine = svm\n",
    "\n",
    "evc=VotingClassifier(estimators=[('mnb',mnb),('lr',lr),('rf',rf),('svm',svm)],voting='hard')\n",
    "evc.fit(x_train, y_train.ravel())\n",
    "\n",
    "print(\"score on test: \" + str(evc.score(x_test, y_test)))\n",
    "print(\"score on train: \"+ str(evc.score(x_train, y_train)))"
   ]
  },
  {
   "cell_type": "code",
   "execution_count": 85,
   "metadata": {},
   "outputs": [
    {
     "name": "stdout",
     "output_type": "stream",
     "text": [
      "[[167  20]\n",
      " [ 22 239]]\n",
      "Accuracy Score:  406\n"
     ]
    }
   ],
   "source": [
    "y_pred_evc = dt.predict(x_test)\n",
    "\n",
    "confusion_matrix_evc = confusion_matrix(y_test, y_pred_evc)\n",
    "print(confusion_matrix_evc)\n",
    "\n",
    "print(\"Accuracy Score: \", accuracy_score(y_test, y_pred_evc, normalize = False))"
   ]
  },
  {
   "attachments": {},
   "cell_type": "markdown",
   "metadata": {},
   "source": [
    "## Accuracy Scores for Algorithms"
   ]
  },
  {
   "cell_type": "code",
   "execution_count": 86,
   "metadata": {},
   "outputs": [
    {
     "name": "stdout",
     "output_type": "stream",
     "text": [
      "Accuracy Score Neural Network:  409\n",
      "Accuracy Score Naive Bayes :  261\n",
      "Accuracy Score Logistic Regression:  261\n",
      "Accuracy Score K-Nearest Neighbors:  403\n",
      "Accuracy Score Support Vector Machine:  261\n",
      "Accuracy Score Decision Tree:  406\n",
      "Accuracy Score Bagging Decision Tree:  406\n",
      "Accuracy Score Boosting Decision Tree:  406\n",
      "Accuracy Score Random Forest:  406\n",
      "Accuracy Score Voting Classifier:  406\n"
     ]
    }
   ],
   "source": [
    "print(\"Accuracy Score Neural Network: \", accuracy_score(y_test, y_pred_nn.round(), normalize=False))\n",
    "print(\"Accuracy Score Naive Bayes : \", accuracy_score(y_test, y_pred_mnb, normalize = False))\n",
    "print(\"Accuracy Score Logistic Regression: \", accuracy_score(y_test, y_pred_lr, normalize = False))\n",
    "print(\"Accuracy Score K-Nearest Neighbors: \", accuracy_score(y_test, y_pred_knn, normalize = False))\n",
    "print(\"Accuracy Score Support Vector Machine: \", accuracy_score(y_test, y_pred_svm, normalize = False))\n",
    "print(\"Accuracy Score Decision Tree: \", accuracy_score(y_test, y_pred_dt, normalize = False))\n",
    "print(\"Accuracy Score Bagging Decision Tree: \", accuracy_score(y_test, y_pred_bg, normalize = False))\n",
    "print(\"Accuracy Score Boosting Decision Tree: \", accuracy_score(y_test, y_pred_adb, normalize = False))\n",
    "print(\"Accuracy Score Random Forest: \", accuracy_score(y_test, y_pred_rf, normalize = False))\n",
    "print(\"Accuracy Score Voting Classifier: \", accuracy_score(y_test, y_pred_evc, normalize = False))"
   ]
  },
  {
   "cell_type": "code",
   "execution_count": null,
   "metadata": {},
   "outputs": [],
   "source": []
  },
  {
   "cell_type": "code",
   "execution_count": null,
   "metadata": {},
   "outputs": [],
   "source": []
  },
  {
   "cell_type": "code",
   "execution_count": null,
   "metadata": {},
   "outputs": [],
   "source": []
  },
  {
   "cell_type": "code",
   "execution_count": null,
   "metadata": {},
   "outputs": [],
   "source": []
  }
 ],
 "metadata": {
  "kernelspec": {
   "display_name": "py385_env",
   "language": "python",
   "name": "python3"
  },
  "language_info": {
   "codemirror_mode": {
    "name": "ipython",
    "version": 3
   },
   "file_extension": ".py",
   "mimetype": "text/x-python",
   "name": "python",
   "nbconvert_exporter": "python",
   "pygments_lexer": "ipython3",
   "version": "3.8.5"
  },
  "orig_nbformat": 4,
  "vscode": {
   "interpreter": {
    "hash": "055daa023bd8f6171f9c197078260cd4997c66c537ea1071c8be9375cdb3ea58"
   }
  }
 },
 "nbformat": 4,
 "nbformat_minor": 2
}
